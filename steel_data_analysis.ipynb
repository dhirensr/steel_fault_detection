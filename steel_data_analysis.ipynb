{
 "cells": [
  {
   "cell_type": "code",
   "execution_count": 35,
   "metadata": {},
   "outputs": [
    {
     "name": "stdout",
     "output_type": "stream",
     "text": [
      "2536\n"
     ]
    },
    {
     "data": {
      "image/png": "[encoded data removed]",
      "text/plain": [
       "<Figure size 432x288 with 1 Axes>"
      ]
     },
     "metadata": {
      "needs_background": "light"
     },
     "output_type": "display_data"
    }
   ],
   "source": [
    "\n",
    "import numpy as np\n",
    "import pandas as pd\n",
    "import seaborn as sns\n",
    "from sklearn.ensemble import RandomForestClassifier\n",
    "from sklearn.linear_model import LogisticRegression#CV\n",
    "from sklearn.neighbors import KNeighborsClassifier\n",
    "import sklearn as sk\n",
    "import matplotlib.pyplot as plt\n",
    "import os\n",
    "from sklearn import svm\n",
    "from sklearn.model_selection import train_test_split\n",
    "\n",
    "df = pd.read_csv(os.getcwd()+'/steel_data.csv')\n",
    "\n",
    "sns.countplot(x=\"Class\", data= df)\n",
    "\n",
    "\n",
    "\n",
    "df_class1 = df[df.Class==1]\n",
    "df_class2 = df[df.Class==2]\n",
    "df_class2_upsampled = sk.utils.resample(df_class2,\n",
    "                                        replace=True,\n",
    "                                        n_samples=1268)\n",
    "df = pd.concat([df_class1, df_class2_upsampled])\n",
    "print(len(df))\n",
    "sns.countplot(x=\"Class\", data= df)\n",
    "\n",
    "\n",
    "\n",
    "X_train, X_test, y_train, y_test = train_test_split(df.iloc[:,:-1], df['Class'], test_size=0.49)\n",
    "\n",
    "\n",
    "#clf.predict([X_test,y_test])\n",
    "\n",
    "# w = clf.coef_[0]\n",
    "# print(w)\n",
    "\n",
    "# a = -w[0] / w[1]\n",
    "\n",
    "# xx = np.linspace(0,12)\n",
    "# yy = a * xx - clf.intercept_[0] / w[1]\n",
    "\n",
    "# h0 = plt.plot(xx, yy, 'k-', label=\"non weighted div\")\n",
    "\n",
    "# plt.scatter(X[:, 0], X[:, 1], c = y)\n",
    "# plt.legend()\n",
    "# plt.show()\n"
   ]
  },
  {
   "cell_type": "code",
   "execution_count": 36,
   "metadata": {},
   "outputs": [
    {
     "name": "stdout",
     "output_type": "stream",
     "text": [
      "Accuracy_Score= 0.9798873692679002\n"
     ]
    }
   ],
   "source": [
    "clf = RandomForestClassifier(n_estimators = 10)\n",
    "clf.fit(X_train, y_train)\n",
    "\n",
    "#clf = svm.SVC(kernel='linear', C = 1.0)\n",
    "clf.fit(X_train,y_train)\n",
    "y2_predicted=clf.predict(X_test)\n",
    "#print(y2_predicted,y_test)\n",
    "print(\"Accuracy_Score=\",sk.metrics.accuracy_score(y_test,y2_predicted))"
   ]
  },
  {
   "cell_type": "code",
   "execution_count": 37,
   "metadata": {},
   "outputs": [
    {
     "name": "stdout",
     "output_type": "stream",
     "text": [
      "Accuracy_Score= 0.6065969428801288\n"
     ]
    },
    {
     "name": "stderr",
     "output_type": "stream",
     "text": [
      "/home/shashanks/.local/lib/python3.6/site-packages/sklearn/linear_model/logistic.py:433: FutureWarning: Default solver will be changed to 'lbfgs' in 0.22. Specify a solver to silence this warning.\n",
      "  FutureWarning)\n"
     ]
    }
   ],
   "source": [
    "\n",
    "clf = LogisticRegression()\n",
    "clf.fit(X_train,y_train)\n",
    "y2_predicted=clf.predict(X_test)\n",
    "print(\"Accuracy_Score=\",sk.metrics.accuracy_score(y_test,y2_predicted))"
   ]
  },
  {
   "cell_type": "code",
   "execution_count": 38,
   "metadata": {},
   "outputs": [
    {
     "name": "stdout",
     "output_type": "stream",
     "text": [
      "Accuracy_Score= 0.6323411102172164\n"
     ]
    }
   ],
   "source": [
    "clf= KNeighborsClassifier(n_neighbors=5)\n",
    "clf.fit(X_train,y_train)\n",
    "y2_predicted=clf.predict(X_test)\n",
    "print(\"Accuracy_Score=\",sk.metrics.accuracy_score(y_test,y2_predicted))"
   ]
  },
  {
   "cell_type": "code",
   "execution_count": null,
   "metadata": {},
   "outputs": [],
   "source": []
  }
 ],
 "metadata": {
  "kernelspec": {
   "display_name": "Python 3",
   "language": "python",
   "name": "python3"
  },
  "language_info": {
   "codemirror_mode": {
    "name": "ipython",
    "version": 3
   },
   "file_extension": ".py",
   "mimetype": "text/x-python",
   "name": "python",
   "nbconvert_exporter": "python",
   "pygments_lexer": "ipython3",
   "version": "3.6.7"
  }
 },
 "nbformat": 4,
 "nbformat_minor": 2
}
